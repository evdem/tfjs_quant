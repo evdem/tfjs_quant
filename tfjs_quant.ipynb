{
  "nbformat": 4,
  "nbformat_minor": 0,
  "metadata": {
    "colab": {
      "name": "tfjs_quant.ipynb",
      "provenance": [],
      "include_colab_link": true
    },
    "kernelspec": {
      "name": "python3",
      "display_name": "Python 3"
    }
  },
  "cells": [
    {
      "cell_type": "markdown",
      "metadata": {
        "id": "view-in-github",
        "colab_type": "text"
      },
      "source": [
        "<a href=\"https://colab.research.google.com/github/evdem/tfjs_quant/blob/master/tfjs_quant.ipynb\" target=\"_parent\"><img src=\"https://colab.research.google.com/assets/colab-badge.svg\" alt=\"Open In Colab\"/></a>"
      ]
    },
    {
      "cell_type": "code",
      "metadata": {
        "id": "yvc2gNuek19t",
        "colab_type": "code",
        "outputId": "d7652b60-318f-4457-8cc2-7f69a5f359aa",
        "colab": {
          "base_uri": "https://localhost:8080/",
          "height": 1000
        }
      },
      "source": [
        " !pip install tensorflowjs==1.2.6"
      ],
      "execution_count": 1,
      "outputs": [
        {
          "output_type": "stream",
          "text": [
            "Collecting tensorflowjs==1.2.6\n",
            "  Downloading https://files.pythonhosted.org/packages/e7/6a/b8da7692e9a289edbb83f4693ceb2c0be270ad30a5aee7438627e562ff95/tensorflowjs-1.2.6-py3-none-any.whl\n",
            "Collecting keras==2.2.4 (from tensorflowjs==1.2.6)\n",
            "\u001b[?25l  Downloading https://files.pythonhosted.org/packages/5e/10/aa32dad071ce52b5502266b5c659451cfd6ffcbf14e6c8c4f16c0ff5aaab/Keras-2.2.4-py2.py3-none-any.whl (312kB)\n",
            "\u001b[K     |████████████████████████████████| 317kB 20.3MB/s \n",
            "\u001b[?25hRequirement already satisfied: tensorflow==1.14.0 in /usr/local/lib/python3.6/dist-packages (from tensorflowjs==1.2.6) (1.14.0)\n",
            "Requirement already satisfied: h5py==2.8.0 in /usr/local/lib/python3.6/dist-packages (from tensorflowjs==1.2.6) (2.8.0)\n",
            "Collecting numpy==1.16.4 (from tensorflowjs==1.2.6)\n",
            "\u001b[?25l  Downloading https://files.pythonhosted.org/packages/87/2d/e4656149cbadd3a8a0369fcd1a9c7d61cc7b87b3903b85389c70c989a696/numpy-1.16.4-cp36-cp36m-manylinux1_x86_64.whl (17.3MB)\n",
            "\u001b[K     |████████████████████████████████| 17.3MB 22.3MB/s \n",
            "\u001b[?25hCollecting six==1.11.0 (from tensorflowjs==1.2.6)\n",
            "  Downloading https://files.pythonhosted.org/packages/67/4b/141a581104b1f6397bfa78ac9d43d8ad29a7ca43ea90a2d863fe3056e86a/six-1.11.0-py2.py3-none-any.whl\n",
            "Collecting tensorflow-hub==0.5.0 (from tensorflowjs==1.2.6)\n",
            "\u001b[?25l  Downloading https://files.pythonhosted.org/packages/b5/be/f18c352d84382d9c795a0f37eaf16d42ace7d161fbb0ad20bdcd5e550015/tensorflow_hub-0.5.0-py2.py3-none-any.whl (78kB)\n",
            "\u001b[K     |████████████████████████████████| 81kB 33.9MB/s \n",
            "\u001b[?25hRequirement already satisfied: pyyaml in /usr/local/lib/python3.6/dist-packages (from keras==2.2.4->tensorflowjs==1.2.6) (3.13)\n",
            "Requirement already satisfied: keras-applications>=1.0.6 in /usr/local/lib/python3.6/dist-packages (from keras==2.2.4->tensorflowjs==1.2.6) (1.0.8)\n",
            "Requirement already satisfied: scipy>=0.14 in /usr/local/lib/python3.6/dist-packages (from keras==2.2.4->tensorflowjs==1.2.6) (1.3.1)\n",
            "Requirement already satisfied: keras-preprocessing>=1.0.5 in /usr/local/lib/python3.6/dist-packages (from keras==2.2.4->tensorflowjs==1.2.6) (1.1.0)\n",
            "Requirement already satisfied: wheel>=0.26 in /usr/local/lib/python3.6/dist-packages (from tensorflow==1.14.0->tensorflowjs==1.2.6) (0.33.6)\n",
            "Requirement already satisfied: tensorflow-estimator<1.15.0rc0,>=1.14.0rc0 in /usr/local/lib/python3.6/dist-packages (from tensorflow==1.14.0->tensorflowjs==1.2.6) (1.14.0)\n",
            "Requirement already satisfied: termcolor>=1.1.0 in /usr/local/lib/python3.6/dist-packages (from tensorflow==1.14.0->tensorflowjs==1.2.6) (1.1.0)\n",
            "Requirement already satisfied: tensorboard<1.15.0,>=1.14.0 in /usr/local/lib/python3.6/dist-packages (from tensorflow==1.14.0->tensorflowjs==1.2.6) (1.14.0)\n",
            "Requirement already satisfied: grpcio>=1.8.6 in /usr/local/lib/python3.6/dist-packages (from tensorflow==1.14.0->tensorflowjs==1.2.6) (1.15.0)\n",
            "Requirement already satisfied: wrapt>=1.11.1 in /usr/local/lib/python3.6/dist-packages (from tensorflow==1.14.0->tensorflowjs==1.2.6) (1.11.2)\n",
            "Requirement already satisfied: google-pasta>=0.1.6 in /usr/local/lib/python3.6/dist-packages (from tensorflow==1.14.0->tensorflowjs==1.2.6) (0.1.7)\n",
            "Requirement already satisfied: astor>=0.6.0 in /usr/local/lib/python3.6/dist-packages (from tensorflow==1.14.0->tensorflowjs==1.2.6) (0.8.0)\n",
            "Requirement already satisfied: gast>=0.2.0 in /usr/local/lib/python3.6/dist-packages (from tensorflow==1.14.0->tensorflowjs==1.2.6) (0.2.2)\n",
            "Requirement already satisfied: absl-py>=0.7.0 in /usr/local/lib/python3.6/dist-packages (from tensorflow==1.14.0->tensorflowjs==1.2.6) (0.8.0)\n",
            "Requirement already satisfied: protobuf>=3.6.1 in /usr/local/lib/python3.6/dist-packages (from tensorflow==1.14.0->tensorflowjs==1.2.6) (3.7.1)\n",
            "Requirement already satisfied: werkzeug>=0.11.15 in /usr/local/lib/python3.6/dist-packages (from tensorboard<1.15.0,>=1.14.0->tensorflow==1.14.0->tensorflowjs==1.2.6) (0.15.6)\n",
            "Requirement already satisfied: markdown>=2.6.8 in /usr/local/lib/python3.6/dist-packages (from tensorboard<1.15.0,>=1.14.0->tensorflow==1.14.0->tensorflowjs==1.2.6) (3.1.1)\n",
            "Requirement already satisfied: setuptools>=41.0.0 in /usr/local/lib/python3.6/dist-packages (from tensorboard<1.15.0,>=1.14.0->tensorflow==1.14.0->tensorflowjs==1.2.6) (41.2.0)\n",
            "\u001b[31mERROR: google-colab 1.0.0 has requirement six~=1.12.0, but you'll have six 1.11.0 which is incompatible.\u001b[0m\n",
            "\u001b[31mERROR: datascience 0.10.6 has requirement folium==0.2.1, but you'll have folium 0.8.3 which is incompatible.\u001b[0m\n",
            "\u001b[31mERROR: albumentations 0.1.12 has requirement imgaug<0.2.7,>=0.2.5, but you'll have imgaug 0.2.9 which is incompatible.\u001b[0m\n",
            "Installing collected packages: numpy, six, keras, tensorflow-hub, tensorflowjs\n",
            "  Found existing installation: numpy 1.16.5\n",
            "    Uninstalling numpy-1.16.5:\n",
            "      Successfully uninstalled numpy-1.16.5\n",
            "  Found existing installation: six 1.12.0\n",
            "    Uninstalling six-1.12.0:\n",
            "      Successfully uninstalled six-1.12.0\n",
            "  Found existing installation: Keras 2.2.5\n",
            "    Uninstalling Keras-2.2.5:\n",
            "      Successfully uninstalled Keras-2.2.5\n",
            "  Found existing installation: tensorflow-hub 0.6.0\n",
            "    Uninstalling tensorflow-hub-0.6.0:\n",
            "      Successfully uninstalled tensorflow-hub-0.6.0\n",
            "Successfully installed keras-2.2.4 numpy-1.16.4 six-1.11.0 tensorflow-hub-0.5.0 tensorflowjs-1.2.6\n"
          ],
          "name": "stdout"
        },
        {
          "output_type": "display_data",
          "data": {
            "application/vnd.colab-display-data+json": {
              "pip_warning": {
                "packages": [
                  "numpy",
                  "six"
                ]
              }
            }
          },
          "metadata": {
            "tags": []
          }
        }
      ]
    },
    {
      "cell_type": "code",
      "metadata": {
        "id": "Fxhn10wWlkv8",
        "colab_type": "code",
        "outputId": "d6e146db-cdc2-4016-9971-079a150ee42e",
        "colab": {
          "base_uri": "https://localhost:8080/",
          "height": 757
        }
      },
      "source": [
        "!tensorflowjs_converter \\\n",
        "    --input_format=tf_hub \\\n",
        "    'https://tfhub.dev/google/imagenet/mobilenet_v1_100_224/classification/3' \\\n",
        "    /mobilenet/web_model"
      ],
      "execution_count": 1,
      "outputs": [
        {
          "output_type": "stream",
          "text": [
            "Loading the module using TF 1.X interface from /tmp/tfhub_modules/71e5abe27bf19a82cdeceb8547c8327b5fce981d.\n",
            "2019-09-27 14:44:49.859162: I tensorflow/core/platform/cpu_feature_guard.cc:142] Your CPU supports instructions that this TensorFlow binary was not compiled to use: AVX512F\n",
            "2019-09-27 14:44:49.878669: I tensorflow/core/platform/profile_utils/cpu_utils.cc:94] CPU Frequency: 2000144999 Hz\n",
            "2019-09-27 14:44:49.878900: I tensorflow/compiler/xla/service/service.cc:168] XLA service 0x23dd2c0 executing computations on platform Host. Devices:\n",
            "2019-09-27 14:44:49.878929: I tensorflow/compiler/xla/service/service.cc:175]   StreamExecutor device (0): <undefined>, <undefined>\n",
            "2019-09-27 14:44:50.194741: W tensorflow/compiler/jit/mark_for_compilation_pass.cc:1412] (One-time warning): Not using XLA:CPU for cluster because envvar TF_XLA_FLAGS=--tf_xla_cpu_global_jit was not set.  If you want XLA:CPU, either set that envvar, or use experimental_jit_scope to enable XLA:CPU.  To confirm that XLA is active, pass --vmodule=xla_compilation_cache=1 (as a proper command-line flag, not via TF_XLA_FLAGS) or set the envvar XLA_FLAGS=--xla_hlo_profile.\n",
            "Creating a model with inputs ['images'] and outputs ['module_apply_default/MobilenetV1/Logits/SpatialSqueeze'].\n",
            "WARNING:tensorflow:From /usr/local/lib/python3.6/dist-packages/tensorflowjs/converters/tf_saved_model_conversion_v2.py:398: convert_variables_to_constants (from tensorflow.python.framework.graph_util_impl) is deprecated and will be removed in a future version.\n",
            "Instructions for updating:\n",
            "Use `tf.compat.v1.graph_util.convert_variables_to_constants`\n",
            "WARNING:tensorflow:From /usr/local/lib/python3.6/dist-packages/tensorflowjs/converters/tf_saved_model_conversion_v2.py:398: convert_variables_to_constants (from tensorflow.python.framework.graph_util_impl) is deprecated and will be removed in a future version.\n",
            "Instructions for updating:\n",
            "Use `tf.compat.v1.graph_util.convert_variables_to_constants`\n",
            "WARNING:tensorflow:From /usr/local/lib/python3.6/dist-packages/tensorflow/python/framework/graph_util_impl.py:270: extract_sub_graph (from tensorflow.python.framework.graph_util_impl) is deprecated and will be removed in a future version.\n",
            "Instructions for updating:\n",
            "Use `tf.compat.v1.graph_util.extract_sub_graph`\n",
            "WARNING:tensorflow:From /usr/local/lib/python3.6/dist-packages/tensorflow/python/framework/graph_util_impl.py:270: extract_sub_graph (from tensorflow.python.framework.graph_util_impl) is deprecated and will be removed in a future version.\n",
            "Instructions for updating:\n",
            "Use `tf.compat.v1.graph_util.extract_sub_graph`\n",
            "2019-09-27 14:44:51.467475: I tensorflow/core/grappler/optimizers/meta_optimizer.cc:716] Optimization results for grappler item: graph_to_optimize\n",
            "2019-09-27 14:44:51.467541: I tensorflow/core/grappler/optimizers/meta_optimizer.cc:718]   debug_stripper: debug_stripper did nothing. time = 0.031ms.\n",
            "2019-09-27 14:44:51.467553: I tensorflow/core/grappler/optimizers/meta_optimizer.cc:718]   model_pruner: Graph size after: 228 nodes (-138), 227 edges (-138), time = 1.916ms.\n",
            "2019-09-27 14:44:51.467562: I tensorflow/core/grappler/optimizers/meta_optimizer.cc:718]   constant folding: Graph size after: 228 nodes (0), 227 edges (0), time = 13.835ms.\n",
            "2019-09-27 14:44:51.467571: I tensorflow/core/grappler/optimizers/meta_optimizer.cc:718]   arithmetic_optimizer: Graph size after: 228 nodes (0), 227 edges (0), time = 28.146ms.\n",
            "2019-09-27 14:44:51.467579: I tensorflow/core/grappler/optimizers/meta_optimizer.cc:718]   dependency_optimizer: Graph size after: 228 nodes (0), 227 edges (0), time = 1.891ms.\n",
            "2019-09-27 14:44:51.467587: I tensorflow/core/grappler/optimizers/meta_optimizer.cc:718]   model_pruner: Graph size after: 228 nodes (0), 227 edges (0), time = 0.72ms.\n",
            "2019-09-27 14:44:51.467601: I tensorflow/core/grappler/optimizers/meta_optimizer.cc:718]   remapper: Graph size after: 417 nodes (189), 443 edges (216), time = 7.91ms.\n",
            "2019-09-27 14:44:51.467610: I tensorflow/core/grappler/optimizers/meta_optimizer.cc:718]   constant folding: Graph size after: 173 nodes (-244), 172 edges (-271), time = 166.824ms.\n",
            "2019-09-27 14:44:51.467618: I tensorflow/core/grappler/optimizers/meta_optimizer.cc:718]   arithmetic_optimizer: Graph size after: 173 nodes (0), 172 edges (0), time = 39.057ms.\n",
            "2019-09-27 14:44:51.467626: I tensorflow/core/grappler/optimizers/meta_optimizer.cc:718]   dependency_optimizer: Graph size after: 173 nodes (0), 172 edges (0), time = 6.678ms.\n",
            "2019-09-27 14:44:51.467636: I tensorflow/core/grappler/optimizers/meta_optimizer.cc:718]   debug_stripper: debug_stripper did nothing. time = 0.335ms.\n",
            "2019-09-27 14:44:51.467644: I tensorflow/core/grappler/optimizers/meta_optimizer.cc:718]   model_pruner: Graph size after: 173 nodes (0), 172 edges (0), time = 4.575ms.\n",
            "2019-09-27 14:44:51.467652: I tensorflow/core/grappler/optimizers/meta_optimizer.cc:718]   constant folding: Graph size after: 173 nodes (0), 172 edges (0), time = 65.168ms.\n",
            "2019-09-27 14:44:51.467665: I tensorflow/core/grappler/optimizers/meta_optimizer.cc:718]   arithmetic_optimizer: Graph size after: 173 nodes (0), 172 edges (0), time = 38.994ms.\n",
            "2019-09-27 14:44:51.467673: I tensorflow/core/grappler/optimizers/meta_optimizer.cc:718]   dependency_optimizer: Graph size after: 173 nodes (0), 172 edges (0), time = 6.333ms.\n",
            "2019-09-27 14:44:51.467681: I tensorflow/core/grappler/optimizers/meta_optimizer.cc:718]   model_pruner: Graph size after: 173 nodes (0), 172 edges (0), time = 4.891ms.\n",
            "2019-09-27 14:44:51.467689: I tensorflow/core/grappler/optimizers/meta_optimizer.cc:718]   remapper: Graph size after: 173 nodes (0), 172 edges (0), time = 9.425ms.\n",
            "2019-09-27 14:44:51.467697: I tensorflow/core/grappler/optimizers/meta_optimizer.cc:718]   constant folding: Graph size after: 173 nodes (0), 172 edges (0), time = 45.727ms.\n",
            "2019-09-27 14:44:51.467705: I tensorflow/core/grappler/optimizers/meta_optimizer.cc:718]   arithmetic_optimizer: Graph size after: 173 nodes (0), 172 edges (0), time = 36.188ms.\n",
            "2019-09-27 14:44:51.467713: I tensorflow/core/grappler/optimizers/meta_optimizer.cc:718]   dependency_optimizer: Graph size after: 173 nodes (0), 172 edges (0), time = 6.394ms.\n",
            "Writing weight file /mobilenet/web_model/model.json...\n"
          ],
          "name": "stdout"
        }
      ]
    }
  ]
}